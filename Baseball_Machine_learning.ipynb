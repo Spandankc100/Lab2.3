{
 "cells": [
  {
   "cell_type": "code",
   "execution_count": null,
   "id": "eba06dcd-03f6-447b-b565-308319a69c19",
   "metadata": {},
   "outputs": [],
   "source": [
    "import polars as pl"
   ]
  },
  {
   "cell_type": "code",
   "execution_count": null,
   "id": "8730cba7-fe79-4489-93fa-edceb41266c5",
   "metadata": {},
   "outputs": [],
   "source": [
    "#Gold Glove Award Dataset\n",
    "# Reading the Fielding.csv file\n",
    "fielding = pl.read_csv(\"./data/lahman_1871-2023_csv/Fielding.csv\")\n",
    "fielding.head()"
   ]
  },
  {
   "cell_type": "code",
   "execution_count": 5,
   "id": "8bb4a761-7e6a-472f-8562-4618152274bc",
   "metadata": {},
   "outputs": [
    {
     "data": {
      "text/html": [
       "<div><style>\n",
       ".dataframe > thead > tr,\n",
       ".dataframe > tbody > tr {\n",
       "  text-align: right;\n",
       "  white-space: pre-wrap;\n",
       "}\n",
       "</style>\n",
       "<small>shape: (22_237, 4)</small><table border=\"1\" class=\"dataframe\"><thead><tr><th>playerID</th><th>yearID</th><th>lgID</th><th>POS</th></tr><tr><td>str</td><td>i64</td><td>str</td><td>str</td></tr></thead><tbody><tr><td>&quot;aardsda01&quot;</td><td>2013</td><td>&quot;NL&quot;</td><td>&quot;P&quot;</td></tr><tr><td>&quot;aardsda01&quot;</td><td>2015</td><td>&quot;NL&quot;</td><td>&quot;P&quot;</td></tr><tr><td>&quot;abadfe01&quot;</td><td>2013</td><td>&quot;NL&quot;</td><td>&quot;P&quot;</td></tr><tr><td>&quot;abadfe01&quot;</td><td>2014</td><td>&quot;AL&quot;</td><td>&quot;P&quot;</td></tr><tr><td>&quot;abadfe01&quot;</td><td>2015</td><td>&quot;AL&quot;</td><td>&quot;P&quot;</td></tr><tr><td>&hellip;</td><td>&hellip;</td><td>&hellip;</td><td>&hellip;</td></tr><tr><td>&quot;zuninmi01&quot;</td><td>2022</td><td>&quot;AL&quot;</td><td>&quot;C&quot;</td></tr><tr><td>&quot;zuninmi01&quot;</td><td>2023</td><td>&quot;AL&quot;</td><td>&quot;C&quot;</td></tr><tr><td>&quot;zychto01&quot;</td><td>2015</td><td>&quot;AL&quot;</td><td>&quot;P&quot;</td></tr><tr><td>&quot;zychto01&quot;</td><td>2016</td><td>&quot;AL&quot;</td><td>&quot;P&quot;</td></tr><tr><td>&quot;zychto01&quot;</td><td>2017</td><td>&quot;AL&quot;</td><td>&quot;P&quot;</td></tr></tbody></table></div>"
      ],
      "text/plain": [
       "shape: (22_237, 4)\n",
       "┌───────────┬────────┬──────┬─────┐\n",
       "│ playerID  ┆ yearID ┆ lgID ┆ POS │\n",
       "│ ---       ┆ ---    ┆ ---  ┆ --- │\n",
       "│ str       ┆ i64    ┆ str  ┆ str │\n",
       "╞═══════════╪════════╪══════╪═════╡\n",
       "│ aardsda01 ┆ 2013   ┆ NL   ┆ P   │\n",
       "│ aardsda01 ┆ 2015   ┆ NL   ┆ P   │\n",
       "│ abadfe01  ┆ 2013   ┆ NL   ┆ P   │\n",
       "│ abadfe01  ┆ 2014   ┆ AL   ┆ P   │\n",
       "│ abadfe01  ┆ 2015   ┆ AL   ┆ P   │\n",
       "│ …         ┆ …      ┆ …    ┆ …   │\n",
       "│ zuninmi01 ┆ 2022   ┆ AL   ┆ C   │\n",
       "│ zuninmi01 ┆ 2023   ┆ AL   ┆ C   │\n",
       "│ zychto01  ┆ 2015   ┆ AL   ┆ P   │\n",
       "│ zychto01  ┆ 2016   ┆ AL   ┆ P   │\n",
       "│ zychto01  ┆ 2017   ┆ AL   ┆ P   │\n",
       "└───────────┴────────┴──────┴─────┘"
      ]
     },
     "execution_count": 5,
     "metadata": {},
     "output_type": "execute_result"
    }
   ],
   "source": [
    "#Clean the Fielding Data\n",
    "# Cleaning the Fielding data to include only relevant columns and data from 2013 onwards\n",
    "fielding_clean = (fielding\n",
    "                 .select(['playerID', 'yearID', 'lgID', 'POS'])\n",
    "                 .filter(pl.col('yearID') >= 2013)\n",
    "                 )\n",
    "fielding_clean\n"
   ]
  },
  {
   "cell_type": "code",
   "execution_count": 6,
   "id": "128585df-a83e-416f-9903-abb478e547e0",
   "metadata": {},
   "outputs": [
    {
     "data": {
      "text/html": [
       "<div><style>\n",
       ".dataframe > thead > tr,\n",
       ".dataframe > tbody > tr {\n",
       "  text-align: right;\n",
       "  white-space: pre-wrap;\n",
       "}\n",
       "</style>\n",
       "<small>shape: (5, 6)</small><table border=\"1\" class=\"dataframe\"><thead><tr><th>playerID</th><th>awardID</th><th>yearID</th><th>lgID</th><th>tie</th><th>notes</th></tr><tr><td>str</td><td>str</td><td>i64</td><td>str</td><td>str</td><td>str</td></tr></thead><tbody><tr><td>&quot;poseybu01&quot;</td><td>&quot;Lou Gehrig Memorial Award&quot;</td><td>2019</td><td>&quot;ML&quot;</td><td>null</td><td>null</td></tr><tr><td>&quot;klubeco01&quot;</td><td>&quot;Lou Gehrig Memorial Award&quot;</td><td>2018</td><td>&quot;ML&quot;</td><td>null</td><td>null</td></tr><tr><td>&quot;vottojo01&quot;</td><td>&quot;Lou Gehrig Memorial Award&quot;</td><td>2017</td><td>&quot;ML&quot;</td><td>null</td><td>null</td></tr><tr><td>&quot;altuvjo01&quot;</td><td>&quot;Lou Gehrig Memorial Award&quot;</td><td>2016</td><td>&quot;ML&quot;</td><td>null</td><td>null</td></tr><tr><td>&quot;grandcu01&quot;</td><td>&quot;Lou Gehrig Memorial Award&quot;</td><td>2015</td><td>&quot;ML&quot;</td><td>null</td><td>null</td></tr></tbody></table></div>"
      ],
      "text/plain": [
       "shape: (5, 6)\n",
       "┌───────────┬───────────────────────────┬────────┬──────┬──────┬───────┐\n",
       "│ playerID  ┆ awardID                   ┆ yearID ┆ lgID ┆ tie  ┆ notes │\n",
       "│ ---       ┆ ---                       ┆ ---    ┆ ---  ┆ ---  ┆ ---   │\n",
       "│ str       ┆ str                       ┆ i64    ┆ str  ┆ str  ┆ str   │\n",
       "╞═══════════╪═══════════════════════════╪════════╪══════╪══════╪═══════╡\n",
       "│ poseybu01 ┆ Lou Gehrig Memorial Award ┆ 2019   ┆ ML   ┆ null ┆ null  │\n",
       "│ klubeco01 ┆ Lou Gehrig Memorial Award ┆ 2018   ┆ ML   ┆ null ┆ null  │\n",
       "│ vottojo01 ┆ Lou Gehrig Memorial Award ┆ 2017   ┆ ML   ┆ null ┆ null  │\n",
       "│ altuvjo01 ┆ Lou Gehrig Memorial Award ┆ 2016   ┆ ML   ┆ null ┆ null  │\n",
       "│ grandcu01 ┆ Lou Gehrig Memorial Award ┆ 2015   ┆ ML   ┆ null ┆ null  │\n",
       "└───────────┴───────────────────────────┴────────┴──────┴──────┴───────┘"
      ]
     },
     "execution_count": 6,
     "metadata": {},
     "output_type": "execute_result"
    }
   ],
   "source": [
    "#Read in the Awards Data\n",
    "# Reading the AwardsPlayers.csv file\n",
    "awards_players = pl.read_csv(\"./data/lahman_1871-2023_csv/AwardsPlayers.csv\")\n",
    "awards_players.head()\n"
   ]
  },
  {
   "cell_type": "code",
   "execution_count": 7,
   "id": "81a53104-d36a-47dc-a759-c985e7f32f98",
   "metadata": {},
   "outputs": [
    {
     "data": {
      "text/html": [
       "<div><style>\n",
       ".dataframe > thead > tr,\n",
       ".dataframe > tbody > tr {\n",
       "  text-align: right;\n",
       "  white-space: pre-wrap;\n",
       "}\n",
       "</style>\n",
       "<small>shape: (203, 5)</small><table border=\"1\" class=\"dataframe\"><thead><tr><th>playerID</th><th>yearID</th><th>lgID</th><th>awardID</th><th>notes</th></tr><tr><td>str</td><td>i64</td><td>str</td><td>str</td><td>str</td></tr></thead><tbody><tr><td>&quot;kineris01&quot;</td><td>2020</td><td>&quot;AL&quot;</td><td>&quot;Gold Glove&quot;</td><td>&quot;3B&quot;</td></tr><tr><td>&quot;crawfjp01&quot;</td><td>2020</td><td>&quot;AL&quot;</td><td>&quot;Gold Glove&quot;</td><td>&quot;SS&quot;</td></tr><tr><td>&quot;roberlu01&quot;</td><td>2020</td><td>&quot;AL&quot;</td><td>&quot;Gold Glove&quot;</td><td>&quot;LF&quot;</td></tr><tr><td>&quot;gordoal01&quot;</td><td>2020</td><td>&quot;AL&quot;</td><td>&quot;Gold Glove&quot;</td><td>&quot;CF&quot;</td></tr><tr><td>&quot;gallojo01&quot;</td><td>2020</td><td>&quot;AL&quot;</td><td>&quot;Gold Glove&quot;</td><td>&quot;RF&quot;</td></tr><tr><td>&hellip;</td><td>&hellip;</td><td>&hellip;</td><td>&hellip;</td><td>&hellip;</td></tr><tr><td>&quot;barnhtu01&quot;</td><td>2017</td><td>&quot;NL&quot;</td><td>&quot;Gold Glove&quot;</td><td>&quot;C&quot;</td></tr><tr><td>&quot;goldspa01&quot;</td><td>2017</td><td>&quot;NL&quot;</td><td>&quot;Gold Glove&quot;</td><td>&quot;1B&quot;</td></tr><tr><td>&quot;lemahdj01&quot;</td><td>2017</td><td>&quot;NL&quot;</td><td>&quot;Gold Glove&quot;</td><td>&quot;2B&quot;</td></tr><tr><td>&quot;arenano01&quot;</td><td>2017</td><td>&quot;NL&quot;</td><td>&quot;Gold Glove&quot;</td><td>&quot;3B&quot;</td></tr><tr><td>&quot;crawfbr01&quot;</td><td>2017</td><td>&quot;NL&quot;</td><td>&quot;Gold Glove&quot;</td><td>&quot;SS&quot;</td></tr></tbody></table></div>"
      ],
      "text/plain": [
       "shape: (203, 5)\n",
       "┌───────────┬────────┬──────┬────────────┬───────┐\n",
       "│ playerID  ┆ yearID ┆ lgID ┆ awardID    ┆ notes │\n",
       "│ ---       ┆ ---    ┆ ---  ┆ ---        ┆ ---   │\n",
       "│ str       ┆ i64    ┆ str  ┆ str        ┆ str   │\n",
       "╞═══════════╪════════╪══════╪════════════╪═══════╡\n",
       "│ kineris01 ┆ 2020   ┆ AL   ┆ Gold Glove ┆ 3B    │\n",
       "│ crawfjp01 ┆ 2020   ┆ AL   ┆ Gold Glove ┆ SS    │\n",
       "│ roberlu01 ┆ 2020   ┆ AL   ┆ Gold Glove ┆ LF    │\n",
       "│ gordoal01 ┆ 2020   ┆ AL   ┆ Gold Glove ┆ CF    │\n",
       "│ gallojo01 ┆ 2020   ┆ AL   ┆ Gold Glove ┆ RF    │\n",
       "│ …         ┆ …      ┆ …    ┆ …          ┆ …     │\n",
       "│ barnhtu01 ┆ 2017   ┆ NL   ┆ Gold Glove ┆ C     │\n",
       "│ goldspa01 ┆ 2017   ┆ NL   ┆ Gold Glove ┆ 1B    │\n",
       "│ lemahdj01 ┆ 2017   ┆ NL   ┆ Gold Glove ┆ 2B    │\n",
       "│ arenano01 ┆ 2017   ┆ NL   ┆ Gold Glove ┆ 3B    │\n",
       "│ crawfbr01 ┆ 2017   ┆ NL   ┆ Gold Glove ┆ SS    │\n",
       "└───────────┴────────┴──────┴────────────┴───────┘"
      ]
     },
     "execution_count": 7,
     "metadata": {},
     "output_type": "execute_result"
    }
   ],
   "source": [
    "#Filter Awards Data for Gold Glove Awards\n",
    "# Checking the name of the award and cleaning the Awards data to include only Gold Glove awards from 2013 onwards\n",
    "awards_clean = (awards_players\n",
    "                .select(['playerID', 'yearID', 'lgID', 'awardID', 'notes'])\n",
    "                .filter(pl.col('yearID') >= 2013)\n",
    "                .filter(pl.col('awardID') == 'Gold Glove')\n",
    "         )\n",
    "awards_clean\n"
   ]
  },
  {
   "cell_type": "code",
   "execution_count": 8,
   "id": "1305bf93-36a2-4100-9759-4fe6a7249837",
   "metadata": {},
   "outputs": [
    {
     "data": {
      "text/html": [
       "<div><style>\n",
       ".dataframe > thead > tr,\n",
       ".dataframe > tbody > tr {\n",
       "  text-align: right;\n",
       "  white-space: pre-wrap;\n",
       "}\n",
       "</style>\n",
       "<small>shape: (22_237, 7)</small><table border=\"1\" class=\"dataframe\"><thead><tr><th>playerID</th><th>yearID</th><th>lgID</th><th>POS</th><th>awardID</th><th>gold_glove</th><th>Training_Validation</th></tr><tr><td>str</td><td>i64</td><td>str</td><td>str</td><td>str</td><td>str</td><td>str</td></tr></thead><tbody><tr><td>&quot;aardsda01&quot;</td><td>2013</td><td>&quot;NL&quot;</td><td>&quot;P&quot;</td><td>null</td><td>&quot;NO&quot;</td><td>&quot;Training&quot;</td></tr><tr><td>&quot;aardsda01&quot;</td><td>2015</td><td>&quot;NL&quot;</td><td>&quot;P&quot;</td><td>null</td><td>&quot;NO&quot;</td><td>&quot;Training&quot;</td></tr><tr><td>&quot;abadfe01&quot;</td><td>2013</td><td>&quot;NL&quot;</td><td>&quot;P&quot;</td><td>null</td><td>&quot;NO&quot;</td><td>&quot;Training&quot;</td></tr><tr><td>&quot;abadfe01&quot;</td><td>2014</td><td>&quot;AL&quot;</td><td>&quot;P&quot;</td><td>null</td><td>&quot;NO&quot;</td><td>&quot;Training&quot;</td></tr><tr><td>&quot;abadfe01&quot;</td><td>2015</td><td>&quot;AL&quot;</td><td>&quot;P&quot;</td><td>null</td><td>&quot;NO&quot;</td><td>&quot;Training&quot;</td></tr><tr><td>&hellip;</td><td>&hellip;</td><td>&hellip;</td><td>&hellip;</td><td>&hellip;</td><td>&hellip;</td><td>&hellip;</td></tr><tr><td>&quot;zuninmi01&quot;</td><td>2022</td><td>&quot;AL&quot;</td><td>&quot;C&quot;</td><td>null</td><td>&quot;NO&quot;</td><td>&quot;Training&quot;</td></tr><tr><td>&quot;zuninmi01&quot;</td><td>2023</td><td>&quot;AL&quot;</td><td>&quot;C&quot;</td><td>null</td><td>&quot;NO&quot;</td><td>&quot;Validation&quot;</td></tr><tr><td>&quot;zychto01&quot;</td><td>2015</td><td>&quot;AL&quot;</td><td>&quot;P&quot;</td><td>null</td><td>&quot;NO&quot;</td><td>&quot;Training&quot;</td></tr><tr><td>&quot;zychto01&quot;</td><td>2016</td><td>&quot;AL&quot;</td><td>&quot;P&quot;</td><td>null</td><td>&quot;NO&quot;</td><td>&quot;Training&quot;</td></tr><tr><td>&quot;zychto01&quot;</td><td>2017</td><td>&quot;AL&quot;</td><td>&quot;P&quot;</td><td>null</td><td>&quot;NO&quot;</td><td>&quot;Training&quot;</td></tr></tbody></table></div>"
      ],
      "text/plain": [
       "shape: (22_237, 7)\n",
       "┌───────────┬────────┬──────┬─────┬─────────┬────────────┬─────────────────────┐\n",
       "│ playerID  ┆ yearID ┆ lgID ┆ POS ┆ awardID ┆ gold_glove ┆ Training_Validation │\n",
       "│ ---       ┆ ---    ┆ ---  ┆ --- ┆ ---     ┆ ---        ┆ ---                 │\n",
       "│ str       ┆ i64    ┆ str  ┆ str ┆ str     ┆ str        ┆ str                 │\n",
       "╞═══════════╪════════╪══════╪═════╪═════════╪════════════╪═════════════════════╡\n",
       "│ aardsda01 ┆ 2013   ┆ NL   ┆ P   ┆ null    ┆ NO         ┆ Training            │\n",
       "│ aardsda01 ┆ 2015   ┆ NL   ┆ P   ┆ null    ┆ NO         ┆ Training            │\n",
       "│ abadfe01  ┆ 2013   ┆ NL   ┆ P   ┆ null    ┆ NO         ┆ Training            │\n",
       "│ abadfe01  ┆ 2014   ┆ AL   ┆ P   ┆ null    ┆ NO         ┆ Training            │\n",
       "│ abadfe01  ┆ 2015   ┆ AL   ┆ P   ┆ null    ┆ NO         ┆ Training            │\n",
       "│ …         ┆ …      ┆ …    ┆ …   ┆ …       ┆ …          ┆ …                   │\n",
       "│ zuninmi01 ┆ 2022   ┆ AL   ┆ C   ┆ null    ┆ NO         ┆ Training            │\n",
       "│ zuninmi01 ┆ 2023   ┆ AL   ┆ C   ┆ null    ┆ NO         ┆ Validation          │\n",
       "│ zychto01  ┆ 2015   ┆ AL   ┆ P   ┆ null    ┆ NO         ┆ Training            │\n",
       "│ zychto01  ┆ 2016   ┆ AL   ┆ P   ┆ null    ┆ NO         ┆ Training            │\n",
       "│ zychto01  ┆ 2017   ┆ AL   ┆ P   ┆ null    ┆ NO         ┆ Training            │\n",
       "└───────────┴────────┴──────┴─────┴─────────┴────────────┴─────────────────────┘"
      ]
     },
     "execution_count": 8,
     "metadata": {},
     "output_type": "execute_result"
    }
   ],
   "source": [
    "#Join Fielding and Awards Data\n",
    "# Left join of fielding and awards data to retain all players, adding labels for Gold Glove winners\n",
    "gold_glove = (fielding_clean\n",
    "              .join(awards_clean,\n",
    "                    left_on = ['playerID', 'yearID', 'lgID', 'POS'],\n",
    "                    right_on = ['playerID', 'yearID', 'lgID', 'notes'],\n",
    "                    how = 'left'\n",
    "                   )\n",
    "              .with_columns(gold_glove = pl.when(pl.col('awardID') == 'Gold Glove')\n",
    "                                           .then(pl.lit('Yes'))\n",
    "                                           .otherwise(pl.lit('NO')),\n",
    "                            Training_Validation = pl.when(pl.col('yearID') == 2023)\n",
    "                                                    .then(pl.lit('Validation'))\n",
    "                                                    .otherwise(pl.lit('Training'))\n",
    "                                              )\n",
    "             )\n",
    "gold_glove\n"
   ]
  },
  {
   "cell_type": "code",
   "execution_count": 9,
   "id": "16701439-2cb4-46cb-8e36-17c362bb555e",
   "metadata": {},
   "outputs": [],
   "source": [
    "#Save the Gold Glove Dataset\n",
    "# Saving the gold glove dataset to a CSV file\n",
    "gold_glove.write_csv(\"./data/gold_glove.csv\")\n"
   ]
  },
  {
   "cell_type": "code",
   "execution_count": 10,
   "id": "065fadde-e41a-4c44-b588-656b9be098ea",
   "metadata": {},
   "outputs": [
    {
     "data": {
      "text/html": [
       "<div><style>\n",
       ".dataframe > thead > tr,\n",
       ".dataframe > tbody > tr {\n",
       "  text-align: right;\n",
       "  white-space: pre-wrap;\n",
       "}\n",
       "</style>\n",
       "<small>shape: (5, 3)</small><table border=\"1\" class=\"dataframe\"><thead><tr><th>playerID</th><th>yearID</th><th>salary</th></tr><tr><td>str</td><td>i64</td><td>f64</td></tr></thead><tbody><tr><td>&quot;stewach01&quot;</td><td>2012</td><td>482500.0</td></tr><tr><td>&quot;villaca01&quot;</td><td>2012</td><td>2.2775e6</td></tr><tr><td>&quot;beimejo01&quot;</td><td>2007</td><td>912500.0</td></tr><tr><td>&quot;dukesel01&quot;</td><td>2007</td><td>380000.0</td></tr><tr><td>&quot;ruizca01&quot;</td><td>2009</td><td>475000.0</td></tr></tbody></table></div>"
      ],
      "text/plain": [
       "shape: (5, 3)\n",
       "┌───────────┬────────┬──────────┐\n",
       "│ playerID  ┆ yearID ┆ salary   │\n",
       "│ ---       ┆ ---    ┆ ---      │\n",
       "│ str       ┆ i64    ┆ f64      │\n",
       "╞═══════════╪════════╪══════════╡\n",
       "│ stewach01 ┆ 2012   ┆ 482500.0 │\n",
       "│ villaca01 ┆ 2012   ┆ 2.2775e6 │\n",
       "│ beimejo01 ┆ 2007   ┆ 912500.0 │\n",
       "│ dukesel01 ┆ 2007   ┆ 380000.0 │\n",
       "│ ruizca01  ┆ 2009   ┆ 475000.0 │\n",
       "└───────────┴────────┴──────────┘"
      ]
     },
     "execution_count": 10,
     "metadata": {},
     "output_type": "execute_result"
    }
   ],
   "source": [
    "# Salary Prediction Dataset\n",
    "# Reading the Salaries.csv file and cleaning data from 2006 onwards\n",
    "salaries = pl.read_csv(\"./data/lahman_1871-2023_csv/Salaries.csv\")\n",
    "salaries_clean = (salaries\n",
    "                  .filter(pl.col('yearID') >= 2006)\n",
    "                  .group_by(['playerID','yearID'])\n",
    "                  .mean()\n",
    "                  .drop(['teamID','lgID'])\n",
    "                 )\n",
    "salaries_clean.head()\n"
   ]
  },
  {
   "cell_type": "code",
   "execution_count": 11,
   "id": "8a6f3300-7ceb-4d29-91f9-0d2633348028",
   "metadata": {},
   "outputs": [
    {
     "data": {
      "text/html": [
       "<div><style>\n",
       ".dataframe > thead > tr,\n",
       ".dataframe > tbody > tr {\n",
       "  text-align: right;\n",
       "  white-space: pre-wrap;\n",
       "}\n",
       "</style>\n",
       "<small>shape: (14_230, 21)</small><table border=\"1\" class=\"dataframe\"><thead><tr><th>playerID</th><th>yearID</th><th>stint</th><th>G</th><th>G_batting</th><th>AB</th><th>R</th><th>H</th><th>2B</th><th>3B</th><th>HR</th><th>RBI</th><th>SB</th><th>CS</th><th>BB</th><th>SO</th><th>IBB</th><th>HBP</th><th>SH</th><th>SF</th><th>GIDP</th></tr><tr><td>str</td><td>i64</td><td>i64</td><td>i64</td><td>i64</td><td>i64</td><td>i64</td><td>i64</td><td>i64</td><td>i64</td><td>i64</td><td>i64</td><td>i64</td><td>i64</td><td>i64</td><td>i64</td><td>i64</td><td>i64</td><td>i64</td><td>i64</td><td>i64</td></tr></thead><tbody><tr><td>&quot;betanra01&quot;</td><td>2012</td><td>1</td><td>60</td><td>0</td><td>0</td><td>0</td><td>0</td><td>0</td><td>0</td><td>0</td><td>0</td><td>0</td><td>0</td><td>0</td><td>0</td><td>0</td><td>0</td><td>0</td><td>0</td><td>0</td></tr><tr><td>&quot;vizquom01&quot;</td><td>2009</td><td>1</td><td>62</td><td>0</td><td>177</td><td>17</td><td>47</td><td>7</td><td>2</td><td>1</td><td>14</td><td>4</td><td>0</td><td>13</td><td>27</td><td>0</td><td>0</td><td>5</td><td>0</td><td>0</td></tr><tr><td>&quot;flahery01&quot;</td><td>2014</td><td>1</td><td>102</td><td>0</td><td>281</td><td>33</td><td>62</td><td>15</td><td>1</td><td>7</td><td>32</td><td>1</td><td>0</td><td>22</td><td>68</td><td>2</td><td>5</td><td>3</td><td>1</td><td>3</td></tr><tr><td>&quot;lobatjo01&quot;</td><td>2012</td><td>1</td><td>69</td><td>0</td><td>167</td><td>16</td><td>37</td><td>10</td><td>0</td><td>2</td><td>20</td><td>0</td><td>1</td><td>24</td><td>46</td><td>1</td><td>2</td><td>2</td><td>2</td><td>6</td></tr><tr><td>&quot;leecl02&quot;</td><td>2011</td><td>1</td><td>35</td><td>0</td><td>75</td><td>6</td><td>15</td><td>2</td><td>0</td><td>2</td><td>7</td><td>1</td><td>0</td><td>1</td><td>26</td><td>0</td><td>0</td><td>5</td><td>1</td><td>2</td></tr><tr><td>&hellip;</td><td>&hellip;</td><td>&hellip;</td><td>&hellip;</td><td>&hellip;</td><td>&hellip;</td><td>&hellip;</td><td>&hellip;</td><td>&hellip;</td><td>&hellip;</td><td>&hellip;</td><td>&hellip;</td><td>&hellip;</td><td>&hellip;</td><td>&hellip;</td><td>&hellip;</td><td>&hellip;</td><td>&hellip;</td><td>&hellip;</td><td>&hellip;</td><td>&hellip;</td></tr><tr><td>&quot;rodrise01&quot;</td><td>2008</td><td>1</td><td>59</td><td>0</td><td>167</td><td>18</td><td>34</td><td>8</td><td>1</td><td>3</td><td>10</td><td>3</td><td>1</td><td>14</td><td>55</td><td>0</td><td>3</td><td>2</td><td>1</td><td>3</td></tr><tr><td>&quot;elmorja01&quot;</td><td>2015</td><td>1</td><td>51</td><td>0</td><td>141</td><td>10</td><td>29</td><td>5</td><td>0</td><td>2</td><td>16</td><td>1</td><td>1</td><td>12</td><td>25</td><td>1</td><td>0</td><td>2</td><td>3</td><td>6</td></tr><tr><td>&quot;howeljp01&quot;</td><td>2013</td><td>1</td><td>67</td><td>0</td><td>1</td><td>0</td><td>0</td><td>0</td><td>0</td><td>0</td><td>0</td><td>0</td><td>0</td><td>0</td><td>1</td><td>0</td><td>0</td><td>0</td><td>0</td><td>0</td></tr><tr><td>&quot;staufti01&quot;</td><td>2007</td><td>1</td><td>2</td><td>0</td><td>4</td><td>1</td><td>1</td><td>0</td><td>0</td><td>0</td><td>2</td><td>0</td><td>0</td><td>0</td><td>2</td><td>0</td><td>0</td><td>1</td><td>0</td><td>0</td></tr><tr><td>&quot;worleva01&quot;</td><td>2016</td><td>1</td><td>35</td><td>0</td><td>0</td><td>0</td><td>0</td><td>0</td><td>0</td><td>0</td><td>0</td><td>0</td><td>0</td><td>0</td><td>0</td><td>0</td><td>0</td><td>0</td><td>0</td><td>0</td></tr></tbody></table></div>"
      ],
      "text/plain": [
       "shape: (14_230, 21)\n",
       "┌───────────┬────────┬───────┬─────┬───┬─────┬─────┬─────┬──────┐\n",
       "│ playerID  ┆ yearID ┆ stint ┆ G   ┆ … ┆ HBP ┆ SH  ┆ SF  ┆ GIDP │\n",
       "│ ---       ┆ ---    ┆ ---   ┆ --- ┆   ┆ --- ┆ --- ┆ --- ┆ ---  │\n",
       "│ str       ┆ i64    ┆ i64   ┆ i64 ┆   ┆ i64 ┆ i64 ┆ i64 ┆ i64  │\n",
       "╞═══════════╪════════╪═══════╪═════╪═══╪═════╪═════╪═════╪══════╡\n",
       "│ betanra01 ┆ 2012   ┆ 1     ┆ 60  ┆ … ┆ 0   ┆ 0   ┆ 0   ┆ 0    │\n",
       "│ vizquom01 ┆ 2009   ┆ 1     ┆ 62  ┆ … ┆ 0   ┆ 5   ┆ 0   ┆ 0    │\n",
       "│ flahery01 ┆ 2014   ┆ 1     ┆ 102 ┆ … ┆ 5   ┆ 3   ┆ 1   ┆ 3    │\n",
       "│ lobatjo01 ┆ 2012   ┆ 1     ┆ 69  ┆ … ┆ 2   ┆ 2   ┆ 2   ┆ 6    │\n",
       "│ leecl02   ┆ 2011   ┆ 1     ┆ 35  ┆ … ┆ 0   ┆ 5   ┆ 1   ┆ 2    │\n",
       "│ …         ┆ …      ┆ …     ┆ …   ┆ … ┆ …   ┆ …   ┆ …   ┆ …    │\n",
       "│ rodrise01 ┆ 2008   ┆ 1     ┆ 59  ┆ … ┆ 3   ┆ 2   ┆ 1   ┆ 3    │\n",
       "│ elmorja01 ┆ 2015   ┆ 1     ┆ 51  ┆ … ┆ 0   ┆ 2   ┆ 3   ┆ 6    │\n",
       "│ howeljp01 ┆ 2013   ┆ 1     ┆ 67  ┆ … ┆ 0   ┆ 0   ┆ 0   ┆ 0    │\n",
       "│ staufti01 ┆ 2007   ┆ 1     ┆ 2   ┆ … ┆ 0   ┆ 1   ┆ 0   ┆ 0    │\n",
       "│ worleva01 ┆ 2016   ┆ 1     ┆ 35  ┆ … ┆ 0   ┆ 0   ┆ 0   ┆ 0    │\n",
       "└───────────┴────────┴───────┴─────┴───┴─────┴─────┴─────┴──────┘"
      ]
     },
     "execution_count": 11,
     "metadata": {},
     "output_type": "execute_result"
    }
   ],
   "source": [
    "# Read in and Clean Batting Data\n",
    "# Reading and cleaning the Batting.csv file for data between 2006-2016\n",
    "batting = pl.read_csv(\"./data/lahman_1871-2023_csv/Batting.csv\")\n",
    "batting_clean = (batting\n",
    "                 .filter(pl.col('yearID') >= 2006,\n",
    "                         pl.col('yearID') <= 2016)\n",
    "                 .group_by(['playerID','yearID'])\n",
    "                 .sum()\n",
    "                 .drop(['teamID','lgID','G_old'])\n",
    "                )\n",
    "batting_clean\n"
   ]
  },
  {
   "cell_type": "code",
   "execution_count": 12,
   "id": "53f75868-e08c-419c-b431-bb8309325b84",
   "metadata": {},
   "outputs": [
    {
     "data": {
      "text/html": [
       "<div><style>\n",
       ".dataframe > thead > tr,\n",
       ".dataframe > tbody > tr {\n",
       "  text-align: right;\n",
       "  white-space: pre-wrap;\n",
       "}\n",
       "</style>\n",
       "<small>shape: (14_135, 10)</small><table border=\"1\" class=\"dataframe\"><thead><tr><th>playerID</th><th>yearID</th><th>stint</th><th>G</th><th>GS</th><th>InnOuts</th><th>PO</th><th>A</th><th>E</th><th>DP</th></tr><tr><td>str</td><td>i64</td><td>i64</td><td>i64</td><td>i64</td><td>i64</td><td>i64</td><td>i64</td><td>i64</td><td>i64</td></tr></thead><tbody><tr><td>&quot;quentca01&quot;</td><td>2013</td><td>1</td><td>69</td><td>69</td><td>1668</td><td>105</td><td>1</td><td>1</td><td>0</td></tr><tr><td>&quot;dukeza01&quot;</td><td>2007</td><td>1</td><td>20</td><td>19</td><td>322</td><td>2</td><td>22</td><td>0</td><td>3</td></tr><tr><td>&quot;duffyma02&quot;</td><td>2016</td><td>1</td><td>1</td><td>0</td><td>6</td><td>0</td><td>1</td><td>0</td><td>0</td></tr><tr><td>&quot;floripe01&quot;</td><td>2015</td><td>2</td><td>20</td><td>4</td><td>205</td><td>12</td><td>21</td><td>2</td><td>3</td></tr><tr><td>&quot;mathido01&quot;</td><td>2008</td><td>1</td><td>8</td><td>4</td><td>67</td><td>2</td><td>2</td><td>0</td><td>0</td></tr><tr><td>&hellip;</td><td>&hellip;</td><td>&hellip;</td><td>&hellip;</td><td>&hellip;</td><td>&hellip;</td><td>&hellip;</td><td>&hellip;</td><td>&hellip;</td><td>&hellip;</td></tr><tr><td>&quot;ryanky01&quot;</td><td>2016</td><td>1</td><td>56</td><td>0</td><td>167</td><td>3</td><td>4</td><td>1</td><td>0</td></tr><tr><td>&quot;uptonbj01&quot;</td><td>2013</td><td>1</td><td>118</td><td>111</td><td>2926</td><td>230</td><td>3</td><td>4</td><td>3</td></tr><tr><td>&quot;vargacl01&quot;</td><td>2006</td><td>1</td><td>31</td><td>30</td><td>503</td><td>10</td><td>21</td><td>2</td><td>2</td></tr><tr><td>&quot;lerewan01&quot;</td><td>2009</td><td>1</td><td>3</td><td>2</td><td>40</td><td>2</td><td>2</td><td>0</td><td>1</td></tr><tr><td>&quot;fryerer01&quot;</td><td>2015</td><td>1</td><td>15</td><td>7</td><td>207</td><td>52</td><td>0</td><td>1</td><td>1</td></tr></tbody></table></div>"
      ],
      "text/plain": [
       "shape: (14_135, 10)\n",
       "┌───────────┬────────┬───────┬─────┬───┬─────┬─────┬─────┬─────┐\n",
       "│ playerID  ┆ yearID ┆ stint ┆ G   ┆ … ┆ PO  ┆ A   ┆ E   ┆ DP  │\n",
       "│ ---       ┆ ---    ┆ ---   ┆ --- ┆   ┆ --- ┆ --- ┆ --- ┆ --- │\n",
       "│ str       ┆ i64    ┆ i64   ┆ i64 ┆   ┆ i64 ┆ i64 ┆ i64 ┆ i64 │\n",
       "╞═══════════╪════════╪═══════╪═════╪═══╪═════╪═════╪═════╪═════╡\n",
       "│ quentca01 ┆ 2013   ┆ 1     ┆ 69  ┆ … ┆ 105 ┆ 1   ┆ 1   ┆ 0   │\n",
       "│ dukeza01  ┆ 2007   ┆ 1     ┆ 20  ┆ … ┆ 2   ┆ 22  ┆ 0   ┆ 3   │\n",
       "│ duffyma02 ┆ 2016   ┆ 1     ┆ 1   ┆ … ┆ 0   ┆ 1   ┆ 0   ┆ 0   │\n",
       "│ floripe01 ┆ 2015   ┆ 2     ┆ 20  ┆ … ┆ 12  ┆ 21  ┆ 2   ┆ 3   │\n",
       "│ mathido01 ┆ 2008   ┆ 1     ┆ 8   ┆ … ┆ 2   ┆ 2   ┆ 0   ┆ 0   │\n",
       "│ …         ┆ …      ┆ …     ┆ …   ┆ … ┆ …   ┆ …   ┆ …   ┆ …   │\n",
       "│ ryanky01  ┆ 2016   ┆ 1     ┆ 56  ┆ … ┆ 3   ┆ 4   ┆ 1   ┆ 0   │\n",
       "│ uptonbj01 ┆ 2013   ┆ 1     ┆ 118 ┆ … ┆ 230 ┆ 3   ┆ 4   ┆ 3   │\n",
       "│ vargacl01 ┆ 2006   ┆ 1     ┆ 31  ┆ … ┆ 10  ┆ 21  ┆ 2   ┆ 2   │\n",
       "│ lerewan01 ┆ 2009   ┆ 1     ┆ 3   ┆ … ┆ 2   ┆ 2   ┆ 0   ┆ 1   │\n",
       "│ fryerer01 ┆ 2015   ┆ 1     ┆ 15  ┆ … ┆ 52  ┆ 0   ┆ 1   ┆ 1   │\n",
       "└───────────┴────────┴───────┴─────┴───┴─────┴─────┴─────┴─────┘"
      ]
     },
     "execution_count": 12,
     "metadata": {},
     "output_type": "execute_result"
    }
   ],
   "source": [
    "#Read in and Clean Fielding Data\n",
    "# Cleaning the Fielding.csv file for data between 2006-2016\n",
    "fielding_agg = (fielding\n",
    "                .filter(pl.col('yearID') >= 2006,\n",
    "                         pl.col('yearID') <= 2016)\n",
    "                 .group_by(['playerID','yearID'])\n",
    "                 .sum()\n",
    "                .drop(['teamID','lgID','POS','PB','WP','SB','CS','ZR'])\n",
    "               )\n",
    "fielding_agg\n"
   ]
  },
  {
   "cell_type": "code",
   "execution_count": 13,
   "id": "3eec26a6-dde0-45ea-926d-3dfa9e68974a",
   "metadata": {},
   "outputs": [
    {
     "data": {
      "text/html": [
       "<div><style>\n",
       ".dataframe > thead > tr,\n",
       ".dataframe > tbody > tr {\n",
       "  text-align: right;\n",
       "  white-space: pre-wrap;\n",
       "}\n",
       "</style>\n",
       "<small>shape: (7_423, 28)</small><table border=\"1\" class=\"dataframe\"><thead><tr><th>playerID</th><th>yearID</th><th>stint</th><th>W</th><th>L</th><th>G</th><th>GS</th><th>CG</th><th>SHO</th><th>SV</th><th>IPouts</th><th>H</th><th>ER</th><th>HR</th><th>BB</th><th>SO</th><th>BAOpp</th><th>ERA</th><th>IBB</th><th>WP</th><th>HBP</th><th>BK</th><th>BFP</th><th>GF</th><th>R</th><th>SH</th><th>SF</th><th>GIDP</th></tr><tr><td>str</td><td>i64</td><td>i64</td><td>i64</td><td>i64</td><td>i64</td><td>i64</td><td>i64</td><td>i64</td><td>i64</td><td>i64</td><td>i64</td><td>i64</td><td>i64</td><td>i64</td><td>i64</td><td>f64</td><td>f64</td><td>i64</td><td>i64</td><td>i64</td><td>i64</td><td>i64</td><td>i64</td><td>i64</td><td>i64</td><td>i64</td><td>i64</td></tr></thead><tbody><tr><td>&quot;jenkich01&quot;</td><td>2014</td><td>1</td><td>1</td><td>1</td><td>21</td><td>0</td><td>0</td><td>0</td><td>0</td><td>95</td><td>34</td><td>9</td><td>2</td><td>6</td><td>18</td><td>0.264</td><td>2.56</td><td>1</td><td>0</td><td>1</td><td>0</td><td>136</td><td>12</td><td>10</td><td>0</td><td>0</td><td>2</td></tr><tr><td>&quot;pattejo02&quot;</td><td>2007</td><td>1</td><td>1</td><td>5</td><td>7</td><td>7</td><td>0</td><td>0</td><td>0</td><td>94</td><td>39</td><td>26</td><td>5</td><td>22</td><td>15</td><td>0.31</td><td>7.47</td><td>1</td><td>4</td><td>0</td><td>0</td><td>152</td><td>0</td><td>26</td><td>3</td><td>1</td><td>2</td></tr><tr><td>&quot;seaybo01&quot;</td><td>2007</td><td>1</td><td>3</td><td>0</td><td>58</td><td>0</td><td>0</td><td>0</td><td>1</td><td>139</td><td>38</td><td>12</td><td>1</td><td>15</td><td>38</td><td>0.228</td><td>2.33</td><td>4</td><td>1</td><td>2</td><td>1</td><td>189</td><td>19</td><td>12</td><td>2</td><td>2</td><td>3</td></tr><tr><td>&quot;handbr01&quot;</td><td>2011</td><td>1</td><td>1</td><td>8</td><td>12</td><td>12</td><td>0</td><td>0</td><td>0</td><td>180</td><td>53</td><td>28</td><td>10</td><td>35</td><td>38</td><td>0.241</td><td>4.2</td><td>1</td><td>0</td><td>1</td><td>1</td><td>263</td><td>0</td><td>32</td><td>4</td><td>3</td><td>2</td></tr><tr><td>&quot;sharpjo01&quot;</td><td>2007</td><td>1</td><td>0</td><td>1</td><td>6</td><td>0</td><td>0</td><td>0</td><td>0</td><td>13</td><td>7</td><td>6</td><td>3</td><td>1</td><td>1</td><td>0.368</td><td>12.46</td><td>0</td><td>0</td><td>0</td><td>0</td><td>21</td><td>2</td><td>6</td><td>1</td><td>0</td><td>0</td></tr><tr><td>&hellip;</td><td>&hellip;</td><td>&hellip;</td><td>&hellip;</td><td>&hellip;</td><td>&hellip;</td><td>&hellip;</td><td>&hellip;</td><td>&hellip;</td><td>&hellip;</td><td>&hellip;</td><td>&hellip;</td><td>&hellip;</td><td>&hellip;</td><td>&hellip;</td><td>&hellip;</td><td>&hellip;</td><td>&hellip;</td><td>&hellip;</td><td>&hellip;</td><td>&hellip;</td><td>&hellip;</td><td>&hellip;</td><td>&hellip;</td><td>&hellip;</td><td>&hellip;</td><td>&hellip;</td><td>&hellip;</td></tr><tr><td>&quot;morgaad01&quot;</td><td>2016</td><td>1</td><td>2</td><td>11</td><td>23</td><td>21</td><td>0</td><td>0</td><td>0</td><td>340</td><td>141</td><td>76</td><td>23</td><td>29</td><td>95</td><td>0.303</td><td>6.04</td><td>3</td><td>2</td><td>4</td><td>0</td><td>507</td><td>1</td><td>81</td><td>3</td><td>4</td><td>8</td></tr><tr><td>&quot;marshja01&quot;</td><td>2009</td><td>1</td><td>0</td><td>2</td><td>10</td><td>0</td><td>0</td><td>0</td><td>0</td><td>22</td><td>13</td><td>12</td><td>1</td><td>0</td><td>1</td><td>0.406</td><td>14.73</td><td>0</td><td>0</td><td>1</td><td>0</td><td>35</td><td>2</td><td>12</td><td>2</td><td>0</td><td>1</td></tr><tr><td>&quot;latosma01&quot;</td><td>2014</td><td>1</td><td>5</td><td>5</td><td>16</td><td>16</td><td>0</td><td>0</td><td>0</td><td>307</td><td>92</td><td>37</td><td>9</td><td>26</td><td>74</td><td>0.24</td><td>3.25</td><td>2</td><td>1</td><td>2</td><td>0</td><td>420</td><td>0</td><td>42</td><td>8</td><td>1</td><td>6</td></tr><tr><td>&quot;beimejo01&quot;</td><td>2010</td><td>1</td><td>1</td><td>2</td><td>71</td><td>0</td><td>0</td><td>0</td><td>0</td><td>135</td><td>46</td><td>17</td><td>5</td><td>15</td><td>21</td><td>0.269</td><td>3.4</td><td>3</td><td>2</td><td>0</td><td>1</td><td>188</td><td>11</td><td>18</td><td>1</td><td>1</td><td>5</td></tr><tr><td>&quot;farmebu01&quot;</td><td>2015</td><td>1</td><td>0</td><td>4</td><td>14</td><td>5</td><td>0</td><td>0</td><td>0</td><td>121</td><td>53</td><td>33</td><td>10</td><td>17</td><td>24</td><td>0.323</td><td>7.36</td><td>2</td><td>1</td><td>3</td><td>0</td><td>186</td><td>0</td><td>35</td><td>1</td><td>1</td><td>6</td></tr></tbody></table></div>"
      ],
      "text/plain": [
       "shape: (7_423, 28)\n",
       "┌───────────┬────────┬───────┬─────┬───┬─────┬─────┬─────┬──────┐\n",
       "│ playerID  ┆ yearID ┆ stint ┆ W   ┆ … ┆ R   ┆ SH  ┆ SF  ┆ GIDP │\n",
       "│ ---       ┆ ---    ┆ ---   ┆ --- ┆   ┆ --- ┆ --- ┆ --- ┆ ---  │\n",
       "│ str       ┆ i64    ┆ i64   ┆ i64 ┆   ┆ i64 ┆ i64 ┆ i64 ┆ i64  │\n",
       "╞═══════════╪════════╪═══════╪═════╪═══╪═════╪═════╪═════╪══════╡\n",
       "│ jenkich01 ┆ 2014   ┆ 1     ┆ 1   ┆ … ┆ 10  ┆ 0   ┆ 0   ┆ 2    │\n",
       "│ pattejo02 ┆ 2007   ┆ 1     ┆ 1   ┆ … ┆ 26  ┆ 3   ┆ 1   ┆ 2    │\n",
       "│ seaybo01  ┆ 2007   ┆ 1     ┆ 3   ┆ … ┆ 12  ┆ 2   ┆ 2   ┆ 3    │\n",
       "│ handbr01  ┆ 2011   ┆ 1     ┆ 1   ┆ … ┆ 32  ┆ 4   ┆ 3   ┆ 2    │\n",
       "│ sharpjo01 ┆ 2007   ┆ 1     ┆ 0   ┆ … ┆ 6   ┆ 1   ┆ 0   ┆ 0    │\n",
       "│ …         ┆ …      ┆ …     ┆ …   ┆ … ┆ …   ┆ …   ┆ …   ┆ …    │\n",
       "│ morgaad01 ┆ 2016   ┆ 1     ┆ 2   ┆ … ┆ 81  ┆ 3   ┆ 4   ┆ 8    │\n",
       "│ marshja01 ┆ 2009   ┆ 1     ┆ 0   ┆ … ┆ 12  ┆ 2   ┆ 0   ┆ 1    │\n",
       "│ latosma01 ┆ 2014   ┆ 1     ┆ 5   ┆ … ┆ 42  ┆ 8   ┆ 1   ┆ 6    │\n",
       "│ beimejo01 ┆ 2010   ┆ 1     ┆ 1   ┆ … ┆ 18  ┆ 1   ┆ 1   ┆ 5    │\n",
       "│ farmebu01 ┆ 2015   ┆ 1     ┆ 0   ┆ … ┆ 35  ┆ 1   ┆ 1   ┆ 6    │\n",
       "└───────────┴────────┴───────┴─────┴───┴─────┴─────┴─────┴──────┘"
      ]
     },
     "execution_count": 13,
     "metadata": {},
     "output_type": "execute_result"
    }
   ],
   "source": [
    "#Read in and Clean Pitching Data\n",
    "# Reading and cleaning the Pitching.csv file for data between 2006-2016\n",
    "pitching = pl.read_csv(\"./data/lahman_1871-2023_csv/Pitching.csv\")\n",
    "pitching_clean = (pitching\n",
    "                  .filter(pl.col('yearID') >= 2006,\n",
    "                          pl.col('yearID') <= 2016)\n",
    "                  .group_by(['playerID','yearID'])\n",
    "                  .sum()\n",
    "                  .drop(['teamID','lgID'])\n",
    "                 )\n",
    "pitching_clean\n"
   ]
  },
  {
   "cell_type": "code",
   "execution_count": 14,
   "id": "404c6a37-4e8d-4b79-9c31-9f028f26031d",
   "metadata": {},
   "outputs": [
    {
     "data": {
      "text/html": [
       "<div><style>\n",
       ".dataframe > thead > tr,\n",
       ".dataframe > tbody > tr {\n",
       "  text-align: right;\n",
       "  white-space: pre-wrap;\n",
       "}\n",
       "</style>\n",
       "<small>shape: (14_230, 59)</small><table border=\"1\" class=\"dataframe\"><thead><tr><th>playerID</th><th>yearID</th><th>stint</th><th>G</th><th>G_batting</th><th>AB</th><th>R</th><th>H</th><th>2B</th><th>3B</th><th>HR</th><th>RBI</th><th>SB</th><th>CS</th><th>BB</th><th>SO</th><th>IBB</th><th>HBP</th><th>SH</th><th>SF</th><th>GIDP</th><th>playerID_fielding</th><th>yearID_fielding</th><th>stint_fielding</th><th>G_fielding</th><th>GS</th><th>InnOuts</th><th>PO</th><th>A</th><th>E</th><th>DP</th><th>playerID_pitching</th><th>yearID_pitching</th><th>stint_pitching</th><th>W</th><th>L</th><th>G_pitching</th><th>GS_pitching</th><th>CG</th><th>SHO</th><th>SV</th><th>IPouts</th><th>H_pitching</th><th>ER</th><th>HR_pitching</th><th>BB_pitching</th><th>SO_pitching</th><th>BAOpp</th><th>ERA</th><th>IBB_pitching</th><th>WP</th><th>HBP_pitching</th><th>BK</th><th>BFP</th><th>GF</th><th>R_pitching</th><th>SH_pitching</th><th>SF_pitching</th><th>GIDP_pitching</th></tr><tr><td>str</td><td>i64</td><td>i64</td><td>i64</td><td>i64</td><td>i64</td><td>i64</td><td>i64</td><td>i64</td><td>i64</td><td>i64</td><td>i64</td><td>i64</td><td>i64</td><td>i64</td><td>i64</td><td>i64</td><td>i64</td><td>i64</td><td>i64</td><td>i64</td><td>str</td><td>i64</td><td>i64</td><td>i64</td><td>i64</td><td>i64</td><td>i64</td><td>i64</td><td>i64</td><td>i64</td><td>str</td><td>i64</td><td>i64</td><td>i64</td><td>i64</td><td>i64</td><td>i64</td><td>i64</td><td>i64</td><td>i64</td><td>i64</td><td>i64</td><td>i64</td><td>i64</td><td>i64</td><td>i64</td><td>f64</td><td>f64</td><td>i64</td><td>i64</td><td>i64</td><td>i64</td><td>i64</td><td>i64</td><td>i64</td><td>i64</td><td>i64</td><td>i64</td></tr></thead><tbody><tr><td>&quot;betanra01&quot;</td><td>2012</td><td>1</td><td>60</td><td>0</td><td>0</td><td>0</td><td>0</td><td>0</td><td>0</td><td>0</td><td>0</td><td>0</td><td>0</td><td>0</td><td>0</td><td>0</td><td>0</td><td>0</td><td>0</td><td>0</td><td>&quot;betanra01&quot;</td><td>2012</td><td>1</td><td>60</td><td>0</td><td>173</td><td>3</td><td>1</td><td>0</td><td>0</td><td>&quot;betanra01&quot;</td><td>2012</td><td>1</td><td>1</td><td>4</td><td>60</td><td>0</td><td>0</td><td>0</td><td>31</td><td>173</td><td>53</td><td>18</td><td>6</td><td>12</td><td>57</td><td>0.241</td><td>2.81</td><td>4</td><td>0</td><td>0</td><td>1</td><td>236</td><td>53</td><td>19</td><td>2</td><td>2</td><td>3</td></tr><tr><td>&quot;vizquom01&quot;</td><td>2009</td><td>1</td><td>62</td><td>0</td><td>177</td><td>17</td><td>47</td><td>7</td><td>2</td><td>1</td><td>14</td><td>4</td><td>0</td><td>13</td><td>27</td><td>0</td><td>0</td><td>5</td><td>0</td><td>0</td><td>&quot;vizquom01&quot;</td><td>2009</td><td>3</td><td>63</td><td>45</td><td>1271</td><td>60</td><td>147</td><td>0</td><td>36</td><td>null</td><td>null</td><td>null</td><td>null</td><td>null</td><td>null</td><td>null</td><td>null</td><td>null</td><td>null</td><td>null</td><td>null</td><td>null</td><td>null</td><td>null</td><td>null</td><td>null</td><td>null</td><td>null</td><td>null</td><td>null</td><td>null</td><td>null</td><td>null</td><td>null</td><td>null</td><td>null</td><td>null</td></tr><tr><td>&quot;flahery01&quot;</td><td>2014</td><td>1</td><td>102</td><td>0</td><td>281</td><td>33</td><td>62</td><td>15</td><td>1</td><td>7</td><td>32</td><td>1</td><td>0</td><td>22</td><td>68</td><td>2</td><td>5</td><td>3</td><td>1</td><td>3</td><td>&quot;flahery01&quot;</td><td>2014</td><td>5</td><td>107</td><td>78</td><td>2208</td><td>104</td><td>202</td><td>10</td><td>35</td><td>null</td><td>null</td><td>null</td><td>null</td><td>null</td><td>null</td><td>null</td><td>null</td><td>null</td><td>null</td><td>null</td><td>null</td><td>null</td><td>null</td><td>null</td><td>null</td><td>null</td><td>null</td><td>null</td><td>null</td><td>null</td><td>null</td><td>null</td><td>null</td><td>null</td><td>null</td><td>null</td><td>null</td></tr><tr><td>&quot;lobatjo01&quot;</td><td>2012</td><td>1</td><td>69</td><td>0</td><td>167</td><td>16</td><td>37</td><td>10</td><td>0</td><td>2</td><td>20</td><td>0</td><td>1</td><td>24</td><td>46</td><td>1</td><td>2</td><td>2</td><td>2</td><td>6</td><td>&quot;lobatjo01&quot;</td><td>2012</td><td>1</td><td>66</td><td>50</td><td>1401</td><td>448</td><td>28</td><td>4</td><td>3</td><td>null</td><td>null</td><td>null</td><td>null</td><td>null</td><td>null</td><td>null</td><td>null</td><td>null</td><td>null</td><td>null</td><td>null</td><td>null</td><td>null</td><td>null</td><td>null</td><td>null</td><td>null</td><td>null</td><td>null</td><td>null</td><td>null</td><td>null</td><td>null</td><td>null</td><td>null</td><td>null</td><td>null</td></tr><tr><td>&quot;leecl02&quot;</td><td>2011</td><td>1</td><td>35</td><td>0</td><td>75</td><td>6</td><td>15</td><td>2</td><td>0</td><td>2</td><td>7</td><td>1</td><td>0</td><td>1</td><td>26</td><td>0</td><td>0</td><td>5</td><td>1</td><td>2</td><td>&quot;leecl02&quot;</td><td>2011</td><td>1</td><td>32</td><td>32</td><td>698</td><td>7</td><td>26</td><td>1</td><td>1</td><td>&quot;leecl02&quot;</td><td>2011</td><td>1</td><td>17</td><td>8</td><td>32</td><td>32</td><td>6</td><td>6</td><td>0</td><td>698</td><td>197</td><td>62</td><td>18</td><td>42</td><td>238</td><td>0.229</td><td>2.4</td><td>0</td><td>0</td><td>6</td><td>0</td><td>920</td><td>0</td><td>66</td><td>6</td><td>4</td><td>20</td></tr><tr><td>&hellip;</td><td>&hellip;</td><td>&hellip;</td><td>&hellip;</td><td>&hellip;</td><td>&hellip;</td><td>&hellip;</td><td>&hellip;</td><td>&hellip;</td><td>&hellip;</td><td>&hellip;</td><td>&hellip;</td><td>&hellip;</td><td>&hellip;</td><td>&hellip;</td><td>&hellip;</td><td>&hellip;</td><td>&hellip;</td><td>&hellip;</td><td>&hellip;</td><td>&hellip;</td><td>&hellip;</td><td>&hellip;</td><td>&hellip;</td><td>&hellip;</td><td>&hellip;</td><td>&hellip;</td><td>&hellip;</td><td>&hellip;</td><td>&hellip;</td><td>&hellip;</td><td>&hellip;</td><td>&hellip;</td><td>&hellip;</td><td>&hellip;</td><td>&hellip;</td><td>&hellip;</td><td>&hellip;</td><td>&hellip;</td><td>&hellip;</td><td>&hellip;</td><td>&hellip;</td><td>&hellip;</td><td>&hellip;</td><td>&hellip;</td><td>&hellip;</td><td>&hellip;</td><td>&hellip;</td><td>&hellip;</td><td>&hellip;</td><td>&hellip;</td><td>&hellip;</td><td>&hellip;</td><td>&hellip;</td><td>&hellip;</td><td>&hellip;</td><td>&hellip;</td><td>&hellip;</td><td>&hellip;</td></tr><tr><td>&quot;rodrise01&quot;</td><td>2008</td><td>1</td><td>59</td><td>0</td><td>167</td><td>18</td><td>34</td><td>8</td><td>1</td><td>3</td><td>10</td><td>3</td><td>1</td><td>14</td><td>55</td><td>0</td><td>3</td><td>2</td><td>1</td><td>3</td><td>&quot;rodrise01&quot;</td><td>2008</td><td>3</td><td>56</td><td>47</td><td>1334</td><td>102</td><td>139</td><td>2</td><td>38</td><td>null</td><td>null</td><td>null</td><td>null</td><td>null</td><td>null</td><td>null</td><td>null</td><td>null</td><td>null</td><td>null</td><td>null</td><td>null</td><td>null</td><td>null</td><td>null</td><td>null</td><td>null</td><td>null</td><td>null</td><td>null</td><td>null</td><td>null</td><td>null</td><td>null</td><td>null</td><td>null</td><td>null</td></tr><tr><td>&quot;elmorja01&quot;</td><td>2015</td><td>1</td><td>51</td><td>0</td><td>141</td><td>10</td><td>29</td><td>5</td><td>0</td><td>2</td><td>16</td><td>1</td><td>1</td><td>12</td><td>25</td><td>1</td><td>0</td><td>2</td><td>3</td><td>6</td><td>&quot;elmorja01&quot;</td><td>2015</td><td>6</td><td>55</td><td>40</td><td>1107</td><td>202</td><td>36</td><td>5</td><td>20</td><td>&quot;elmorja01&quot;</td><td>2015</td><td>1</td><td>0</td><td>0</td><td>1</td><td>0</td><td>0</td><td>0</td><td>0</td><td>3</td><td>3</td><td>1</td><td>1</td><td>0</td><td>0</td><td>0.5</td><td>9.0</td><td>0</td><td>0</td><td>0</td><td>0</td><td>6</td><td>0</td><td>1</td><td>0</td><td>0</td><td>0</td></tr><tr><td>&quot;howeljp01&quot;</td><td>2013</td><td>1</td><td>67</td><td>0</td><td>1</td><td>0</td><td>0</td><td>0</td><td>0</td><td>0</td><td>0</td><td>0</td><td>0</td><td>0</td><td>1</td><td>0</td><td>0</td><td>0</td><td>0</td><td>0</td><td>&quot;howeljp01&quot;</td><td>2013</td><td>1</td><td>67</td><td>0</td><td>186</td><td>6</td><td>10</td><td>0</td><td>1</td><td>&quot;howeljp01&quot;</td><td>2013</td><td>1</td><td>4</td><td>1</td><td>67</td><td>0</td><td>0</td><td>0</td><td>0</td><td>186</td><td>42</td><td>14</td><td>2</td><td>23</td><td>54</td><td>0.193</td><td>2.03</td><td>3</td><td>3</td><td>1</td><td>0</td><td>246</td><td>6</td><td>14</td><td>1</td><td>3</td><td>8</td></tr><tr><td>&quot;staufti01&quot;</td><td>2007</td><td>1</td><td>2</td><td>0</td><td>4</td><td>1</td><td>1</td><td>0</td><td>0</td><td>0</td><td>2</td><td>0</td><td>0</td><td>0</td><td>2</td><td>0</td><td>0</td><td>1</td><td>0</td><td>0</td><td>&quot;staufti01&quot;</td><td>2007</td><td>1</td><td>2</td><td>2</td><td>23</td><td>0</td><td>0</td><td>0</td><td>0</td><td>&quot;staufti01&quot;</td><td>2007</td><td>1</td><td>0</td><td>1</td><td>2</td><td>2</td><td>0</td><td>0</td><td>0</td><td>23</td><td>15</td><td>18</td><td>5</td><td>6</td><td>6</td><td>0.395</td><td>21.13</td><td>0</td><td>0</td><td>1</td><td>0</td><td>45</td><td>0</td><td>18</td><td>0</td><td>0</td><td>0</td></tr><tr><td>&quot;worleva01&quot;</td><td>2016</td><td>1</td><td>35</td><td>0</td><td>0</td><td>0</td><td>0</td><td>0</td><td>0</td><td>0</td><td>0</td><td>0</td><td>0</td><td>0</td><td>0</td><td>0</td><td>0</td><td>0</td><td>0</td><td>0</td><td>&quot;worleva01&quot;</td><td>2016</td><td>1</td><td>35</td><td>4</td><td>260</td><td>4</td><td>8</td><td>0</td><td>1</td><td>&quot;worleva01&quot;</td><td>2016</td><td>1</td><td>2</td><td>2</td><td>35</td><td>4</td><td>0</td><td>0</td><td>1</td><td>260</td><td>84</td><td>34</td><td>11</td><td>35</td><td>56</td><td>0.261</td><td>3.53</td><td>0</td><td>3</td><td>3</td><td>0</td><td>365</td><td>13</td><td>37</td><td>0</td><td>3</td><td>12</td></tr></tbody></table></div>"
      ],
      "text/plain": [
       "shape: (14_230, 59)\n",
       "┌───────────┬────────┬───────┬─────┬───┬────────────┬─────────────┬─────────────┬───────────────┐\n",
       "│ playerID  ┆ yearID ┆ stint ┆ G   ┆ … ┆ R_pitching ┆ SH_pitching ┆ SF_pitching ┆ GIDP_pitching │\n",
       "│ ---       ┆ ---    ┆ ---   ┆ --- ┆   ┆ ---        ┆ ---         ┆ ---         ┆ ---           │\n",
       "│ str       ┆ i64    ┆ i64   ┆ i64 ┆   ┆ i64        ┆ i64         ┆ i64         ┆ i64           │\n",
       "╞═══════════╪════════╪═══════╪═════╪═══╪════════════╪═════════════╪═════════════╪═══════════════╡\n",
       "│ betanra01 ┆ 2012   ┆ 1     ┆ 60  ┆ … ┆ 19         ┆ 2           ┆ 2           ┆ 3             │\n",
       "│ vizquom01 ┆ 2009   ┆ 1     ┆ 62  ┆ … ┆ null       ┆ null        ┆ null        ┆ null          │\n",
       "│ flahery01 ┆ 2014   ┆ 1     ┆ 102 ┆ … ┆ null       ┆ null        ┆ null        ┆ null          │\n",
       "│ lobatjo01 ┆ 2012   ┆ 1     ┆ 69  ┆ … ┆ null       ┆ null        ┆ null        ┆ null          │\n",
       "│ leecl02   ┆ 2011   ┆ 1     ┆ 35  ┆ … ┆ 66         ┆ 6           ┆ 4           ┆ 20            │\n",
       "│ …         ┆ …      ┆ …     ┆ …   ┆ … ┆ …          ┆ …           ┆ …           ┆ …             │\n",
       "│ rodrise01 ┆ 2008   ┆ 1     ┆ 59  ┆ … ┆ null       ┆ null        ┆ null        ┆ null          │\n",
       "│ elmorja01 ┆ 2015   ┆ 1     ┆ 51  ┆ … ┆ 1          ┆ 0           ┆ 0           ┆ 0             │\n",
       "│ howeljp01 ┆ 2013   ┆ 1     ┆ 67  ┆ … ┆ 14         ┆ 1           ┆ 3           ┆ 8             │\n",
       "│ staufti01 ┆ 2007   ┆ 1     ┆ 2   ┆ … ┆ 18         ┆ 0           ┆ 0           ┆ 0             │\n",
       "│ worleva01 ┆ 2016   ┆ 1     ┆ 35  ┆ … ┆ 37         ┆ 0           ┆ 3           ┆ 12            │\n",
       "└───────────┴────────┴───────┴─────┴───┴────────────┴─────────────┴─────────────┴───────────────┘"
      ]
     },
     "execution_count": 14,
     "metadata": {},
     "output_type": "execute_result"
    }
   ],
   "source": [
    "# Join Batting, Fielding, and Pitching Data\n",
    "batting_fielding_pitching = (batting_clean\n",
    "                             .join(fielding_agg,\n",
    "                                   on=['playerID', 'yearID'],\n",
    "                                   how='full',\n",
    "                                   suffix='_fielding'  # Add suffix for fielding columns to avoid duplicates\n",
    "                                  )\n",
    "                             .join(pitching_clean,\n",
    "                                   on=['playerID', 'yearID'],\n",
    "                                   how='full',\n",
    "                                   suffix='_pitching'  # Add suffix for pitching columns to avoid duplicates\n",
    "                                  )\n",
    "                            )\n",
    "\n",
    "batting_fielding_pitching\n"
   ]
  },
  {
   "cell_type": "code",
   "execution_count": 15,
   "id": "5cb62e75-91f9-4896-bb0e-d07448e5474d",
   "metadata": {},
   "outputs": [
    {
     "data": {
      "text/html": [
       "<div><style>\n",
       ".dataframe > thead > tr,\n",
       ".dataframe > tbody > tr {\n",
       "  text-align: right;\n",
       "  white-space: pre-wrap;\n",
       "}\n",
       "</style>\n",
       "<small>shape: (9_131, 61)</small><table border=\"1\" class=\"dataframe\"><thead><tr><th>playerID</th><th>yearID</th><th>salary</th><th>stint</th><th>G</th><th>G_batting</th><th>AB</th><th>R</th><th>H</th><th>2B</th><th>3B</th><th>HR</th><th>RBI</th><th>SB</th><th>CS</th><th>BB</th><th>SO</th><th>IBB</th><th>HBP</th><th>SH</th><th>SF</th><th>GIDP</th><th>playerID_fielding</th><th>yearID_fielding</th><th>stint_fielding</th><th>G_fielding</th><th>GS</th><th>InnOuts</th><th>PO</th><th>A</th><th>E</th><th>DP</th><th>playerID_pitching</th><th>yearID_pitching</th><th>stint_pitching</th><th>W</th><th>L</th><th>G_pitching</th><th>GS_pitching</th><th>CG</th><th>SHO</th><th>SV</th><th>IPouts</th><th>H_pitching</th><th>ER</th><th>HR_pitching</th><th>BB_pitching</th><th>SO_pitching</th><th>BAOpp</th><th>ERA</th><th>IBB_pitching</th><th>WP</th><th>HBP_pitching</th><th>BK</th><th>BFP</th><th>GF</th><th>R_pitching</th><th>SH_pitching</th><th>SF_pitching</th><th>GIDP_pitching</th><th>Training_Validation</th></tr><tr><td>str</td><td>i64</td><td>f64</td><td>i64</td><td>i64</td><td>i64</td><td>i64</td><td>i64</td><td>i64</td><td>i64</td><td>i64</td><td>i64</td><td>i64</td><td>i64</td><td>i64</td><td>i64</td><td>i64</td><td>i64</td><td>i64</td><td>i64</td><td>i64</td><td>i64</td><td>str</td><td>i64</td><td>i64</td><td>i64</td><td>i64</td><td>i64</td><td>i64</td><td>i64</td><td>i64</td><td>i64</td><td>str</td><td>i64</td><td>i64</td><td>i64</td><td>i64</td><td>i64</td><td>i64</td><td>i64</td><td>i64</td><td>i64</td><td>i64</td><td>i64</td><td>i64</td><td>i64</td><td>i64</td><td>i64</td><td>f64</td><td>f64</td><td>i64</td><td>i64</td><td>i64</td><td>i64</td><td>i64</td><td>i64</td><td>i64</td><td>i64</td><td>i64</td><td>i64</td><td>str</td></tr></thead><tbody><tr><td>&quot;stewach01&quot;</td><td>2012</td><td>482500.0</td><td>1</td><td>55</td><td>0</td><td>141</td><td>15</td><td>34</td><td>8</td><td>0</td><td>1</td><td>13</td><td>2</td><td>0</td><td>10</td><td>21</td><td>0</td><td>1</td><td>3</td><td>2</td><td>1</td><td>&quot;stewach01&quot;</td><td>2012</td><td>1</td><td>54</td><td>46</td><td>1186</td><td>379</td><td>25</td><td>4</td><td>3</td><td>null</td><td>null</td><td>null</td><td>null</td><td>null</td><td>null</td><td>null</td><td>null</td><td>null</td><td>null</td><td>null</td><td>null</td><td>null</td><td>null</td><td>null</td><td>null</td><td>null</td><td>null</td><td>null</td><td>null</td><td>null</td><td>null</td><td>null</td><td>null</td><td>null</td><td>null</td><td>null</td><td>null</td><td>&quot;Training&quot;</td></tr><tr><td>&quot;villaca01&quot;</td><td>2012</td><td>2.2775e6</td><td>1</td><td>38</td><td>0</td><td>2</td><td>1</td><td>1</td><td>0</td><td>0</td><td>0</td><td>0</td><td>0</td><td>0</td><td>0</td><td>0</td><td>0</td><td>0</td><td>0</td><td>0</td><td>0</td><td>&quot;villaca01&quot;</td><td>2012</td><td>1</td><td>38</td><td>16</td><td>376</td><td>7</td><td>11</td><td>0</td><td>0</td><td>&quot;villaca01&quot;</td><td>2012</td><td>1</td><td>7</td><td>7</td><td>38</td><td>16</td><td>0</td><td>0</td><td>0</td><td>376</td><td>113</td><td>58</td><td>23</td><td>46</td><td>122</td><td>0.242</td><td>4.16</td><td>4</td><td>6</td><td>3</td><td>1</td><td>521</td><td>9</td><td>59</td><td>2</td><td>4</td><td>12</td><td>&quot;Training&quot;</td></tr><tr><td>&quot;beimejo01&quot;</td><td>2007</td><td>912500.0</td><td>1</td><td>83</td><td>0</td><td>1</td><td>0</td><td>0</td><td>0</td><td>0</td><td>0</td><td>0</td><td>0</td><td>0</td><td>0</td><td>1</td><td>0</td><td>0</td><td>0</td><td>0</td><td>0</td><td>&quot;beimejo01&quot;</td><td>2007</td><td>1</td><td>83</td><td>0</td><td>202</td><td>11</td><td>22</td><td>1</td><td>6</td><td>&quot;beimejo01&quot;</td><td>2007</td><td>1</td><td>4</td><td>2</td><td>83</td><td>0</td><td>0</td><td>0</td><td>1</td><td>202</td><td>63</td><td>29</td><td>1</td><td>24</td><td>39</td><td>0.253</td><td>3.88</td><td>6</td><td>3</td><td>1</td><td>2</td><td>281</td><td>10</td><td>30</td><td>5</td><td>2</td><td>11</td><td>&quot;Training&quot;</td></tr><tr><td>&quot;dukesel01&quot;</td><td>2007</td><td>380000.0</td><td>1</td><td>52</td><td>0</td><td>184</td><td>27</td><td>35</td><td>3</td><td>2</td><td>10</td><td>21</td><td>2</td><td>4</td><td>33</td><td>44</td><td>0</td><td>2</td><td>0</td><td>1</td><td>6</td><td>&quot;dukesel01&quot;</td><td>2007</td><td>1</td><td>40</td><td>37</td><td>1037</td><td>87</td><td>3</td><td>0</td><td>1</td><td>null</td><td>null</td><td>null</td><td>null</td><td>null</td><td>null</td><td>null</td><td>null</td><td>null</td><td>null</td><td>null</td><td>null</td><td>null</td><td>null</td><td>null</td><td>null</td><td>null</td><td>null</td><td>null</td><td>null</td><td>null</td><td>null</td><td>null</td><td>null</td><td>null</td><td>null</td><td>null</td><td>null</td><td>&quot;Training&quot;</td></tr><tr><td>&quot;ruizca01&quot;</td><td>2009</td><td>475000.0</td><td>1</td><td>107</td><td>0</td><td>322</td><td>32</td><td>82</td><td>26</td><td>1</td><td>9</td><td>43</td><td>3</td><td>2</td><td>47</td><td>39</td><td>8</td><td>4</td><td>4</td><td>2</td><td>8</td><td>&quot;ruizca01&quot;</td><td>2009</td><td>1</td><td>107</td><td>100</td><td>2647</td><td>707</td><td>49</td><td>3</td><td>7</td><td>null</td><td>null</td><td>null</td><td>null</td><td>null</td><td>null</td><td>null</td><td>null</td><td>null</td><td>null</td><td>null</td><td>null</td><td>null</td><td>null</td><td>null</td><td>null</td><td>null</td><td>null</td><td>null</td><td>null</td><td>null</td><td>null</td><td>null</td><td>null</td><td>null</td><td>null</td><td>null</td><td>null</td><td>&quot;Training&quot;</td></tr><tr><td>&hellip;</td><td>&hellip;</td><td>&hellip;</td><td>&hellip;</td><td>&hellip;</td><td>&hellip;</td><td>&hellip;</td><td>&hellip;</td><td>&hellip;</td><td>&hellip;</td><td>&hellip;</td><td>&hellip;</td><td>&hellip;</td><td>&hellip;</td><td>&hellip;</td><td>&hellip;</td><td>&hellip;</td><td>&hellip;</td><td>&hellip;</td><td>&hellip;</td><td>&hellip;</td><td>&hellip;</td><td>&hellip;</td><td>&hellip;</td><td>&hellip;</td><td>&hellip;</td><td>&hellip;</td><td>&hellip;</td><td>&hellip;</td><td>&hellip;</td><td>&hellip;</td><td>&hellip;</td><td>&hellip;</td><td>&hellip;</td><td>&hellip;</td><td>&hellip;</td><td>&hellip;</td><td>&hellip;</td><td>&hellip;</td><td>&hellip;</td><td>&hellip;</td><td>&hellip;</td><td>&hellip;</td><td>&hellip;</td><td>&hellip;</td><td>&hellip;</td><td>&hellip;</td><td>&hellip;</td><td>&hellip;</td><td>&hellip;</td><td>&hellip;</td><td>&hellip;</td><td>&hellip;</td><td>&hellip;</td><td>&hellip;</td><td>&hellip;</td><td>&hellip;</td><td>&hellip;</td><td>&hellip;</td><td>&hellip;</td><td>&hellip;</td></tr><tr><td>&quot;varitja01&quot;</td><td>2006</td><td>1e7</td><td>1</td><td>103</td><td>0</td><td>365</td><td>46</td><td>87</td><td>19</td><td>2</td><td>12</td><td>55</td><td>1</td><td>2</td><td>46</td><td>87</td><td>7</td><td>2</td><td>1</td><td>2</td><td>10</td><td>&quot;varitja01&quot;</td><td>2006</td><td>1</td><td>99</td><td>94</td><td>2467</td><td>647</td><td>28</td><td>4</td><td>3</td><td>null</td><td>null</td><td>null</td><td>null</td><td>null</td><td>null</td><td>null</td><td>null</td><td>null</td><td>null</td><td>null</td><td>null</td><td>null</td><td>null</td><td>null</td><td>null</td><td>null</td><td>null</td><td>null</td><td>null</td><td>null</td><td>null</td><td>null</td><td>null</td><td>null</td><td>null</td><td>null</td><td>null</td><td>&quot;Training&quot;</td></tr><tr><td>&quot;guevaca01&quot;</td><td>2008</td><td>390000.0</td><td>1</td><td>10</td><td>0</td><td>0</td><td>0</td><td>0</td><td>0</td><td>0</td><td>0</td><td>0</td><td>0</td><td>0</td><td>0</td><td>0</td><td>0</td><td>0</td><td>0</td><td>0</td><td>0</td><td>&quot;guevaca01&quot;</td><td>2008</td><td>1</td><td>10</td><td>0</td><td>37</td><td>0</td><td>2</td><td>0</td><td>0</td><td>&quot;guevaca01&quot;</td><td>2008</td><td>1</td><td>1</td><td>0</td><td>10</td><td>0</td><td>0</td><td>0</td><td>0</td><td>37</td><td>13</td><td>8</td><td>2</td><td>9</td><td>11</td><td>0.265</td><td>5.84</td><td>2</td><td>3</td><td>0</td><td>0</td><td>60</td><td>6</td><td>9</td><td>1</td><td>1</td><td>1</td><td>&quot;Training&quot;</td></tr><tr><td>&quot;cedenxa01&quot;</td><td>2014</td><td>507800.0</td><td>1</td><td>9</td><td>0</td><td>0</td><td>0</td><td>0</td><td>0</td><td>0</td><td>0</td><td>0</td><td>0</td><td>0</td><td>0</td><td>0</td><td>0</td><td>0</td><td>0</td><td>0</td><td>0</td><td>&quot;cedenxa01&quot;</td><td>2014</td><td>1</td><td>9</td><td>0</td><td>21</td><td>0</td><td>1</td><td>0</td><td>0</td><td>&quot;cedenxa01&quot;</td><td>2014</td><td>1</td><td>0</td><td>0</td><td>9</td><td>0</td><td>0</td><td>0</td><td>0</td><td>21</td><td>10</td><td>3</td><td>1</td><td>0</td><td>5</td><td>0.333</td><td>3.86</td><td>0</td><td>0</td><td>0</td><td>0</td><td>30</td><td>4</td><td>4</td><td>0</td><td>0</td><td>0</td><td>&quot;Training&quot;</td></tr><tr><td>&quot;pederjo01&quot;</td><td>2016</td><td>520000.0</td><td>1</td><td>137</td><td>0</td><td>406</td><td>64</td><td>100</td><td>26</td><td>0</td><td>25</td><td>68</td><td>6</td><td>2</td><td>63</td><td>130</td><td>4</td><td>4</td><td>1</td><td>2</td><td>5</td><td>&quot;pederjo01&quot;</td><td>2016</td><td>1</td><td>132</td><td>114</td><td>3096</td><td>258</td><td>3</td><td>2</td><td>0</td><td>null</td><td>null</td><td>null</td><td>null</td><td>null</td><td>null</td><td>null</td><td>null</td><td>null</td><td>null</td><td>null</td><td>null</td><td>null</td><td>null</td><td>null</td><td>null</td><td>null</td><td>null</td><td>null</td><td>null</td><td>null</td><td>null</td><td>null</td><td>null</td><td>null</td><td>null</td><td>null</td><td>null</td><td>&quot;Validation&quot;</td></tr><tr><td>&quot;penabr01&quot;</td><td>2010</td><td>428000.0</td><td>1</td><td>60</td><td>0</td><td>158</td><td>11</td><td>40</td><td>10</td><td>0</td><td>1</td><td>19</td><td>2</td><td>0</td><td>12</td><td>27</td><td>0</td><td>1</td><td>1</td><td>2</td><td>8</td><td>&quot;penabr01&quot;</td><td>2010</td><td>1</td><td>47</td><td>35</td><td>1012</td><td>269</td><td>24</td><td>3</td><td>3</td><td>null</td><td>null</td><td>null</td><td>null</td><td>null</td><td>null</td><td>null</td><td>null</td><td>null</td><td>null</td><td>null</td><td>null</td><td>null</td><td>null</td><td>null</td><td>null</td><td>null</td><td>null</td><td>null</td><td>null</td><td>null</td><td>null</td><td>null</td><td>null</td><td>null</td><td>null</td><td>null</td><td>null</td><td>&quot;Training&quot;</td></tr></tbody></table></div>"
      ],
      "text/plain": [
       "shape: (9_131, 61)\n",
       "┌───────────┬────────┬──────────┬───────┬───┬─────────────┬─────────────┬───────────────┬─────────────────────┐\n",
       "│ playerID  ┆ yearID ┆ salary   ┆ stint ┆ … ┆ SH_pitching ┆ SF_pitching ┆ GIDP_pitching ┆ Training_Validation │\n",
       "│ ---       ┆ ---    ┆ ---      ┆ ---   ┆   ┆ ---         ┆ ---         ┆ ---           ┆ ---                 │\n",
       "│ str       ┆ i64    ┆ f64      ┆ i64   ┆   ┆ i64         ┆ i64         ┆ i64           ┆ str                 │\n",
       "╞═══════════╪════════╪══════════╪═══════╪═══╪═════════════╪═════════════╪═══════════════╪═════════════════════╡\n",
       "│ stewach01 ┆ 2012   ┆ 482500.0 ┆ 1     ┆ … ┆ null        ┆ null        ┆ null          ┆ Training            │\n",
       "│ villaca01 ┆ 2012   ┆ 2.2775e6 ┆ 1     ┆ … ┆ 2           ┆ 4           ┆ 12            ┆ Training            │\n",
       "│ beimejo01 ┆ 2007   ┆ 912500.0 ┆ 1     ┆ … ┆ 5           ┆ 2           ┆ 11            ┆ Training            │\n",
       "│ dukesel01 ┆ 2007   ┆ 380000.0 ┆ 1     ┆ … ┆ null        ┆ null        ┆ null          ┆ Training            │\n",
       "│ ruizca01  ┆ 2009   ┆ 475000.0 ┆ 1     ┆ … ┆ null        ┆ null        ┆ null          ┆ Training            │\n",
       "│ …         ┆ …      ┆ …        ┆ …     ┆ … ┆ …           ┆ …           ┆ …             ┆ …                   │\n",
       "│ varitja01 ┆ 2006   ┆ 1e7      ┆ 1     ┆ … ┆ null        ┆ null        ┆ null          ┆ Training            │\n",
       "│ guevaca01 ┆ 2008   ┆ 390000.0 ┆ 1     ┆ … ┆ 1           ┆ 1           ┆ 1             ┆ Training            │\n",
       "│ cedenxa01 ┆ 2014   ┆ 507800.0 ┆ 1     ┆ … ┆ 0           ┆ 0           ┆ 0             ┆ Training            │\n",
       "│ pederjo01 ┆ 2016   ┆ 520000.0 ┆ 1     ┆ … ┆ null        ┆ null        ┆ null          ┆ Validation          │\n",
       "│ penabr01  ┆ 2010   ┆ 428000.0 ┆ 1     ┆ … ┆ null        ┆ null        ┆ null          ┆ Training            │\n",
       "└───────────┴────────┴──────────┴───────┴───┴─────────────┴─────────────┴───────────────┴─────────────────────┘"
      ]
     },
     "execution_count": 15,
     "metadata": {},
     "output_type": "execute_result"
    }
   ],
   "source": [
    " #Merge Salaries with Performance Data\n",
    "# Joining salaries with batting, fielding, and pitching performance data\n",
    "salaries_df = (salaries_clean\n",
    "               .join(batting_fielding_pitching,\n",
    "                     on=['playerID', 'yearID'],\n",
    "                     how='left')\n",
    "               .with_columns(Training_Validation = pl.when(pl.col('yearID') == 2016)\n",
    "                                                     .then(pl.lit('Validation'))\n",
    "                                                     .otherwise(pl.lit('Training')))\n",
    "              )\n",
    "salaries_df"
   ]
  },
  {
   "cell_type": "code",
   "execution_count": 16,
   "id": "876a8d9e-82e3-49dc-8f11-319c14604985",
   "metadata": {},
   "outputs": [],
   "source": [
    "#Save the Salary Dataset\n",
    "# Save the salaries dataset to a CSV file\n",
    "salaries_df.write_csv(\"./data/salaries_df.csv\")\n"
   ]
  },
  {
   "cell_type": "code",
   "execution_count": null,
   "id": "68be3c42-98bf-44fd-a36a-11cf1e7a5c8a",
   "metadata": {},
   "outputs": [],
   "source": [
    "\n",
    "# Import necessary libraries\n",
    "import pandas as pd\n",
    "from sklearn.model_selection import train_test_split, GridSearchCV, StratifiedKFold\n",
    "from sklearn.tree import DecisionTreeClassifier\n",
    "from sklearn.ensemble import RandomForestClassifier\n",
    "from sklearn.metrics import accuracy_score, classification_report, confusion_matrix\n",
    "\n",
    "# Load the gold glove dataset\n",
    "gold_glove = pd.read_csv('./data/gold_glove.csv')  # Update the path to your data file\n"
   ]
  },
  {
   "cell_type": "code",
   "execution_count": null,
   "id": "d92bb54d-6721-4be3-a9a3-43583882177b",
   "metadata": {},
   "outputs": [],
   "source": [
    "\n"
   ]
  },
  {
   "cell_type": "code",
   "execution_count": null,
   "id": "3d400aae-04fb-45ab-a937-3cd6470fcb1d",
   "metadata": {},
   "outputs": [],
   "source": [
    "\n",
    "}\n"
   ]
  },
  {
   "cell_type": "code",
   "execution_count": null,
   "id": "279c5a09-c1c6-49bb-8f34-9dbee1274c26",
   "metadata": {},
   "outputs": [],
   "source": [
    "\n"
   ]
  },
  {
   "cell_type": "code",
   "execution_count": null,
   "id": "86ddfedb-f14c-4fc8-92f5-571eb1707b8e",
   "metadata": {},
   "outputs": [],
   "source": []
  }
 ],
 "metadata": {
  "kernelspec": {
   "display_name": "Python 3 (ipykernel)",
   "language": "python",
   "name": "python3"
  },
  "language_info": {
   "codemirror_mode": {
    "name": "ipython",
    "version": 3
   },
   "file_extension": ".py",
   "mimetype": "text/x-python",
   "name": "python",
   "nbconvert_exporter": "python",
   "pygments_lexer": "ipython3",
   "version": "3.12.5"
  }
 },
 "nbformat": 4,
 "nbformat_minor": 5
}
